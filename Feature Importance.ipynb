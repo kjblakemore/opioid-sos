{
 "cells": [
  {
   "cell_type": "code",
   "execution_count": null,
   "metadata": {},
   "outputs": [],
   "source": [
    "import pandas as pd\n",
    "from sklearn.feature_selection import mutual_info_regression\n",
    "\n",
    "import censusgeocode as cg"
   ]
  },
  {
   "cell_type": "code",
   "execution_count": null,
   "metadata": {},
   "outputs": [],
   "source": [
    "DATA_DIR = '/Users/karenblakemore/opiod-sos/data/'\n",
    "\n",
    "column_names = ['Census_Tract_Number',        # FIPS Census Tract Number\n",
    "                'Mortality_Rate',             # Age-adjusted (15 years & older) Mortality Rate per 100,000\n",
    "                'Frequent_Mental_Distress',   # Predicted prevalence of Frequent Mental Distress in adults\n",
    "                'Fair_Poor_Health',           # Predicted prevalence of Fair or Poor Health Status among adults\n",
    "                'Frequent_Physical_Distress', # Predicted prevalence of physical distress in adults\n",
    "                'Delayed_Medical_Care',       # Predicted prevalence of delayed medical care because of cost in adults\n",
    "                'Life_Expectancy',            # Estimated life expectancy at birth\n",
    "                'Takeback_Locations'          # Number of medication take back locations\n",
    "               ]\n",
    "pdf = pd.DataFrame()"
   ]
  },
  {
   "cell_type": "code",
   "execution_count": null,
   "metadata": {},
   "outputs": [],
   "source": [
    "DATA_SET = 'Drug_Poisoning_or_Overdose_involving_Rx_Opioid_Analgesic_or_Heroin_Mortality_Rate_Census_Tract'\n",
    "pdf_mortality_rate = pd.read_csv(DATA_DIR + DATA_SET + '.csv')\n",
    "display(pdf_mortality_rate.head())\n",
    "\n",
    "pdf['Census_Tract_Number'] = pdf_mortality_rate['TRACT_FIPS']\n",
    "pdf['Mortality_Rate'] = pdf_mortality_rate['POD_DEATH_ADJRATE']  # age adjusted rate of mortality per 10\n",
    "pdf = pdf.set_index('Census_Tract_Number')\n",
    "pdf = pdf.fillna(0)\n",
    "display(pdf.head(20))"
   ]
  },
  {
   "cell_type": "code",
   "execution_count": null,
   "metadata": {},
   "outputs": [],
   "source": [
    "DATA_SET = 'Mental_Health_in_Adults__CDPHE_Community_Level_Estimates_Census_Tracts'\n",
    "pdf_mental_health = pd.read_csv(DATA_DIR + DATA_SET + '.csv')\n",
    "pdf_mental_health = pdf_mental_health.rename(columns = {'MNTLD': 'Frequent_Mental_Distress'})\n",
    "display(pdf_mental_health.head())\n",
    "\n",
    "pdf = pdf.join(pdf_mental_health.set_index('FIPS')['Frequent_Mental_Distress'])\n",
    "display(pdf.head())"
   ]
  },
  {
   "cell_type": "code",
   "execution_count": null,
   "metadata": {},
   "outputs": [],
   "source": [
    "DATA_SET = 'Health_Status_in_Adults__CDPHE_Community_Level_Estimates_Census_Tracts'\n",
    "pdf_mental_health = pd.read_csv(DATA_DIR + DATA_SET + '.csv')\n",
    "pdf_mental_health = pdf_mental_health.rename(columns = {'FPHLTH': 'Fair_Poor_Health'})\n",
    "display(pdf_mental_health.head())\n",
    "\n",
    "pdf = pdf.join(pdf_mental_health.set_index('FIPS')['Fair_Poor_Health'])\n",
    "print(pdf.isna().sum())\n",
    "display(pdf.head())"
   ]
  },
  {
   "cell_type": "code",
   "execution_count": null,
   "metadata": {},
   "outputs": [],
   "source": [
    "DATA_SET = 'Physical_Health_in_Adults__CDPHE_Community_Level_Estimates_Census_Tracts'\n",
    "pdf_mental_health = pd.read_csv(DATA_DIR + DATA_SET + '.csv')\n",
    "pdf_mental_health = pdf_mental_health.rename(columns = {'PHYSH': 'Frequent_Physical_Distress'})\n",
    "display(pdf_mental_health.head())\n",
    "\n",
    "pdf = pdf.join(pdf_mental_health.set_index('FIPS')['Frequent_Physical_Distress'])\n",
    "display(pdf.head())"
   ]
  },
  {
   "cell_type": "code",
   "execution_count": null,
   "metadata": {},
   "outputs": [],
   "source": [
    "DATA_SET = 'Delayed_Medical_Care_in_Adults___CDPHE_Community_Level_Estimates_Census_Tracts'\n",
    "pdf_mental_health = pd.read_csv(DATA_DIR + DATA_SET + '.csv')\n",
    "pdf_mental_health = pdf_mental_health.rename(columns = {'DELMCC': 'Delayed_Medical_Care'})\n",
    "display(pdf_mental_health.head())\n",
    "\n",
    "pdf = pdf.join(pdf_mental_health.set_index('FIPS')['Delayed_Medical_Care'])\n",
    "display(pdf.head())"
   ]
  },
  {
   "cell_type": "code",
   "execution_count": null,
   "metadata": {},
   "outputs": [],
   "source": [
    "DATA_SET = 'Colorado_Life_Expectancy_by_Census_Tract_Published_by_NAPHSISUSALEEP_20102015'\n",
    "pdf_mental_health = pd.read_csv(DATA_DIR + DATA_SET + '.csv')\n",
    "pdf_mental_health = pdf_mental_health.rename(columns = {'LE_20102015': 'Life_Expectancy'})\n",
    "display(pdf_mental_health.head())\n",
    "\n",
    "pdf = pdf.join(pdf_mental_health.set_index('FIPS')['Life_Expectancy'])\n",
    "pdf['Life_Expectancy'] = pdf['Life_Expectancy'].fillna(pdf['Life_Expectancy'].mean())\n",
    "display(pdf.head())"
   ]
  },
  {
   "cell_type": "code",
   "execution_count": null,
   "metadata": {
    "scrolled": false
   },
   "outputs": [],
   "source": [
    "DATA_SET = 'take-back-program'\n",
    "pdf_take_back = pd.read_csv(DATA_DIR + DATA_SET + '.csv')\n",
    "\n",
    "display(pdf_take_back.head())\n",
    "\n",
    "pdf_take_back['Takeback_Locations'] = \\\n",
    "    pdf_take_back.apply(lambda row: int(cg.coordinates(x=row['Longitude'], y=row['Latitude'])['Census Tracts'][0]['GEOID']), axis=1)\n",
    "\n",
    "pdf_take_back_counts = pdf_take_back['Takeback_Locations'].value_counts().to_frame()\n",
    "\n",
    "display(pdf_take_back_counts.head())\n",
    "\n",
    "pdf = pdf.join(pdf_take_back_counts['Takeback_Locations'])\n",
    "pdf['Takeback_Locations'] = pdf['Takeback_Locations'].fillna(0)\n",
    "display(pdf.head())\n"
   ]
  },
  {
   "cell_type": "code",
   "execution_count": null,
   "metadata": {},
   "outputs": [],
   "source": [
    "print(pdf.isna().sum())\n",
    "\n",
    "y = pdf['Mortality_Rate']\n",
    "X = pdf.drop(['Mortality_Rate'], axis=1)\n",
    "\n",
    "mi = mutual_info_regression(X.values, y)\n",
    "\n",
    "feature_importance = sorted(zip(list(X), mi), key=lambda x: x[1], reverse=True)\n",
    "    \n",
    "import pprint\n",
    "pprint.pprint(feature_importance)"
   ]
  },
  {
   "cell_type": "code",
   "execution_count": null,
   "metadata": {},
   "outputs": [],
   "source": []
  }
 ],
 "metadata": {
  "kernelspec": {
   "display_name": "Python 3",
   "language": "python",
   "name": "python3"
  },
  "language_info": {
   "codemirror_mode": {
    "name": "ipython",
    "version": 3
   },
   "file_extension": ".py",
   "mimetype": "text/x-python",
   "name": "python",
   "nbconvert_exporter": "python",
   "pygments_lexer": "ipython3",
   "version": "3.5.4"
  }
 },
 "nbformat": 4,
 "nbformat_minor": 2
}
